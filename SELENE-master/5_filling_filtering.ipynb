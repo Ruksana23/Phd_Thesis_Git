{
 "cells": [
  {
   "cell_type": "code",
   "execution_count": 136,
   "id": "9f22ecf4-9dae-4545-895a-5464ecfeef57",
   "metadata": {},
   "outputs": [],
   "source": [
    "import os\n",
    "import pandas as pd\n",
    "import numpy as np\n",
    "from scipy.signal import butter, filtfilt\n",
    "import sys\n",
    "import contextlib\n",
    "\n",
    "directory = 'filling' \n"
   ]
  },
  {
   "cell_type": "code",
   "execution_count": 138,
   "id": "d99c89a0-2f3e-4eb5-a07d-011ecceed204",
   "metadata": {},
   "outputs": [
    {
     "name": "stdout",
     "output_type": "stream",
     "text": [
      "Interpolation and filtering completed.\n"
     ]
    }
   ],
   "source": [
    "import os\n",
    "import pandas as pd\n",
    "from scipy.signal import butter, filtfilt\n",
    "\n",
    "# Set the directory where the CSV files are stored\n",
    "directory = 'filling'\n",
    "\n",
    "# Define the Butterworth filter parameters\n",
    "sampling_rate = 1  # Sample rate in Hz (1 sample per hour)\n",
    "cutoff_freq = 1 / 48  # Cutoff frequency in Hz (48-hour low pass filter)\n",
    "nyquist_freq = sampling_rate / 2  # Nyquist frequency\n",
    "normalized_cutoff = cutoff_freq / nyquist_freq  # Normalized cutoff frequency\n",
    "\n",
    "# Calculate the filter coefficients\n",
    "b, a = butter(N=2, Wn=normalized_cutoff, btype='low', analog=False)\n",
    "\n",
    "# Loop through each file path\n",
    "for path in os.listdir(directory):\n",
    "    if path.endswith('.csv'):\n",
    "        file_path = os.path.join(directory, path)\n",
    "        df = pd.read_csv(file_path, index_col=0, parse_dates=['Time'])\n",
    "        \n",
    "        # Linearly interpolate the 'Sl' column with forward fill (no zigzag)\n",
    "        df['Sl'] = df['Sl'].interpolate(method='linear', limit_direction='forward')\n",
    "        # Drop rows before the first non-NaN value\n",
    "        first_valid_index = df['Sl'].first_valid_index()\n",
    "        df = df.loc[first_valid_index:]\n",
    "\n",
    "        # Apply the Butterworth low-pass filter to the 'Sl' column\n",
    "        df['Sl'] = filtfilt(b, a, df['Sl'])\n",
    "        \n",
    "        # Save the interpolated and filtered DataFrame back to CSV if needed\n",
    "        filtered_file_path = os.path.join(directory, 'filtered_' + path)\n",
    "        df.to_csv(filtered_file_path,index=False)\n",
    "\n",
    "print(\"Interpolation and filtering completed.\")"
   ]
  },
  {
   "cell_type": "code",
   "execution_count": null,
   "id": "e63327a5-b0b2-427f-a40f-b8b2537590f4",
   "metadata": {},
   "outputs": [],
   "source": []
  }
 ],
 "metadata": {
  "kernelspec": {
   "display_name": "Python 3 (ipykernel)",
   "language": "python",
   "name": "python3"
  },
  "language_info": {
   "codemirror_mode": {
    "name": "ipython",
    "version": 3
   },
   "file_extension": ".py",
   "mimetype": "text/x-python",
   "name": "python",
   "nbconvert_exporter": "python",
   "pygments_lexer": "ipython3",
   "version": "3.9.15"
  }
 },
 "nbformat": 4,
 "nbformat_minor": 5
}
