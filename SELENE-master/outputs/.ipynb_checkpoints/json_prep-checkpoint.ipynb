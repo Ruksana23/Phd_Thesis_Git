{
 "cells": [
  {
   "cell_type": "code",
   "execution_count": null,
   "id": "7856ae55-75d4-42f5-8425-6e4c24a5c531",
   "metadata": {},
   "outputs": [],
   "source": [
    "import pandas as pd\n",
    "import numpy as np\n",
    "import matplotlib.pyplot as plt\n",
    "import seaborn as sns\n",
    "%matplotlib inline\n",
    "import xarray as xr\n",
    "from scipy import stats\n",
    "from scipy.stats import linregress\n",
    "import os\n",
    "import glob\n",
    "from pathlib import Path  \n",
    "from sklearn.metrics import mean_squared_error\n",
    "from math import sqrt\n",
    "from scipy.signal import correlate \n",
    "import natsort \n",
    "import datetime as dt\n",
    "import scipy\n",
    "import utide\n",
    "from astropy.io import ascii\n",
    "import cartopy.crs as ccrs\n",
    "import pandas as pd\n",
    "import matplotlib.lines as mlines\n",
    "import numpy as np\n",
    "import matplotlib.pyplot as plt\n",
    "from scipy import stats\n",
    "import os\n",
    "from scipy.signal import medfilt\n",
    "import matplotlib.patches as mpatches\n",
    "import os\n"
   ]
  }
 ],
 "metadata": {
  "kernelspec": {
   "display_name": "Python 3 (ipykernel)",
   "language": "python",
   "name": "python3"
  },
  "language_info": {
   "codemirror_mode": {
    "name": "ipython",
    "version": 3
   },
   "file_extension": ".py",
   "mimetype": "text/x-python",
   "name": "python",
   "nbconvert_exporter": "python",
   "pygments_lexer": "ipython3",
   "version": "3.9.15"
  }
 },
 "nbformat": 4,
 "nbformat_minor": 5
}
