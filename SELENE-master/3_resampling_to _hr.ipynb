{
 "cells": [
  {
   "cell_type": "code",
   "execution_count": 11,
   "id": "cdee0061-1843-4744-9f3f-a422ff44129b",
   "metadata": {},
   "outputs": [],
   "source": [
    "import os\n",
    "import pandas as pd\n",
    "from scipy.interpolate import InterpolatedUnivariateSpline\n",
    "\n",
    "# Set your folder path\n",
    "folder_path = 'resampling_to_hr'"
   ]
  },
  {
   "cell_type": "code",
   "execution_count": 4,
   "id": "c830d2bb-b386-4e20-9dda-65fbfda792f1",
   "metadata": {},
   "outputs": [],
   "source": [
    "import os\n",
    "import pandas as pd\n",
    "\n",
    "# Set your folder path\n",
    "folder_path = 'resampling_to_hr'\n",
    "\n",
    "# Create a dictionary to hold data for each station\n",
    "station_data = {}\n",
    "\n",
    "# Loop through each file in the folder\n",
    "for file_name in os.listdir(folder_path):\n",
    "    if file_name.endswith('_5min_interpolated.csv'):  # Process only the specified files\n",
    "        file_path = os.path.join(folder_path, file_name)\n",
    "        \n",
    "        # Extract station name from the file name\n",
    "        station_name = file_name.split('_')[0]\n",
    "        \n",
    "        # Read the data\n",
    "        data = pd.read_csv(file_path)\n",
    "        data['Time'] = pd.to_datetime(data['Time'])\n",
    "        # Set the 'Time' column as the index\n",
    "        data.set_index('Time', inplace=True)\n",
    "        resampled_data = data.resample('H').mean()  # Or use another aggregation function if needed\n",
    "        \n",
    "        # Add resampled data to station data\n",
    "        if station_name not in station_data:\n",
    "            station_data[station_name] = resampled_data\n",
    "        else:\n",
    "            station_data[station_name] = pd.concat([station_data[station_name], resampled_data])\n",
    "# Save combined data for each station\n",
    "for station_name, data in station_data.items():\n",
    "    # Combine all data for the station\n",
    "    combined_data = data.sort_index()\n",
    "    combined_data.reset_index(inplace=True)\n",
    "    # Save the combined data\n",
    "    combined_data.to_csv(os.path.join(folder_path, f'{station_name}.csv'),index=False)\n"
   ]
  },
  {
   "cell_type": "code",
   "execution_count": null,
   "id": "1cb9d431-a8a1-4c59-a882-41e1d8859071",
   "metadata": {},
   "outputs": [],
   "source": []
  }
 ],
 "metadata": {
  "kernelspec": {
   "display_name": "Python 3 (ipykernel)",
   "language": "python",
   "name": "python3"
  },
  "language_info": {
   "codemirror_mode": {
    "name": "ipython",
    "version": 3
   },
   "file_extension": ".py",
   "mimetype": "text/x-python",
   "name": "python",
   "nbconvert_exporter": "python",
   "pygments_lexer": "ipython3",
   "version": "3.9.15"
  }
 },
 "nbformat": 4,
 "nbformat_minor": 5
}
