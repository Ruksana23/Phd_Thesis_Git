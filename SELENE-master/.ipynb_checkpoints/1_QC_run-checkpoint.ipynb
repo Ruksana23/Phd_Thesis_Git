{
 "cells": [
  {
   "cell_type": "code",
   "execution_count": 1,
   "id": "c0daaf27-2107-4b54-9a5e-28a13dc6c768",
   "metadata": {},
   "outputs": [],
   "source": [
    "import pandas as pd\n",
    "import numpy as np\n",
    "import matplotlib.pyplot as plt\n",
    "import seaborn as sns\n",
    "%matplotlib inline\n",
    "import xarray as xr\n",
    "from scipy import stats\n",
    "from scipy.stats import linregress\n",
    "import os\n",
    "import glob\n",
    "from pathlib import Path  \n",
    "from sklearn.metrics import mean_squared_error\n",
    "from math import sqrt\n",
    "from scipy.signal import correlate \n",
    "import natsort \n",
    "import datetime as dt\n",
    "import scipy\n",
    "import utide\n",
    "from astropy.io import ascii\n",
    "import cartopy.crs as ccrs\n",
    "import pandas as pd\n",
    "import matplotlib.lines as mlines\n",
    "import numpy as np\n",
    "import matplotlib.pyplot as plt\n",
    "from scipy import stats\n",
    "import os\n",
    "from scipy.signal import medfilt\n",
    "import matplotlib.patches as mpatches\n",
    "import os\n"
   ]
  },
  {
   "cell_type": "code",
   "execution_count": 2,
   "id": "d1d80b58-9c12-4f50-9941-098689a9ce56",
   "metadata": {},
   "outputs": [],
   "source": [
    "original_path = os.getcwd()\n",
    "os.chdir(original_path)"
   ]
  },
  {
   "cell_type": "code",
   "execution_count": 3,
   "id": "3186148f-cfaf-4d60-8af7-6354112533a7",
   "metadata": {},
   "outputs": [
    {
     "data": {
      "text/html": [
       "<div>\n",
       "<style scoped>\n",
       "    .dataframe tbody tr th:only-of-type {\n",
       "        vertical-align: middle;\n",
       "    }\n",
       "\n",
       "    .dataframe tbody tr th {\n",
       "        vertical-align: top;\n",
       "    }\n",
       "\n",
       "    .dataframe thead th {\n",
       "        text-align: right;\n",
       "    }\n",
       "</style>\n",
       "<table border=\"1\" class=\"dataframe\">\n",
       "  <thead>\n",
       "    <tr style=\"text-align: right;\">\n",
       "      <th></th>\n",
       "      <th>Station</th>\n",
       "      <th>Longitude</th>\n",
       "      <th>Latitude</th>\n",
       "    </tr>\n",
       "  </thead>\n",
       "  <tbody>\n",
       "    <tr>\n",
       "      <th>0</th>\n",
       "      <td>AdaniHazira</td>\n",
       "      <td>72.616</td>\n",
       "      <td>21.100</td>\n",
       "    </tr>\n",
       "    <tr>\n",
       "      <th>1</th>\n",
       "      <td>AerialBay</td>\n",
       "      <td>93.033</td>\n",
       "      <td>13.283</td>\n",
       "    </tr>\n",
       "    <tr>\n",
       "      <th>2</th>\n",
       "      <td>Beypore</td>\n",
       "      <td>75.808</td>\n",
       "      <td>11.171</td>\n",
       "    </tr>\n",
       "    <tr>\n",
       "      <th>3</th>\n",
       "      <td>CampbellBay</td>\n",
       "      <td>93.933</td>\n",
       "      <td>7.000</td>\n",
       "    </tr>\n",
       "    <tr>\n",
       "      <th>4</th>\n",
       "      <td>CarNicobar</td>\n",
       "      <td>92.776</td>\n",
       "      <td>9.234</td>\n",
       "    </tr>\n",
       "  </tbody>\n",
       "</table>\n",
       "</div>"
      ],
      "text/plain": [
       "       Station  Longitude  Latitude\n",
       "0  AdaniHazira     72.616    21.100\n",
       "1    AerialBay     93.033    13.283\n",
       "2      Beypore     75.808    11.171\n",
       "3  CampbellBay     93.933     7.000\n",
       "4   CarNicobar     92.776     9.234"
      ]
     },
     "execution_count": 3,
     "metadata": {},
     "output_type": "execute_result"
    }
   ],
   "source": [
    "df = pd.read_csv(\"SELENE-master/datafiles/INCOIS_Readme.txt\", delimiter=r\"\\s+\")\n",
    "df=df[:-1]\n",
    "df.head()"
   ]
  },
  {
   "cell_type": "code",
   "execution_count": 4,
   "id": "e8ad0efc-0b38-40fc-a699-6267f232c312",
   "metadata": {},
   "outputs": [],
   "source": [
    "paths=[]\n",
    "stations=[]\n",
    "for i in df.Station:\n",
    "    directory_path= \"SELENE-master/datafiles/\"+i\n",
    "    sub_files=os.listdir(directory_path)\n",
    "    sub_files=natsort.natsorted(sub_files,reverse=False)\n",
    "    for j in sub_files:\n",
    "        full_path = os.path.join(directory_path, j)\n",
    "        parts = full_path.split('/')  # Split the string by the slash character\n",
    "        station_year = parts[-1].replace('.csv', '')\n",
    "        stations.append(station_year)\n",
    "        paths.append(full_path)\n",
    "paths=paths[:2]"
   ]
  },
  {
   "cell_type": "code",
   "execution_count": 4,
   "id": "e02d53c5-f890-4bda-b17e-765bbbbf6687",
   "metadata": {},
   "outputs": [],
   "source": [
    "import os\n",
    "import subprocess\n",
    "import time\n",
    "\n",
    "selene_path = 'SELENE-master'\n",
    "\n",
    "\n",
    "\n"
   ]
  },
  {
   "cell_type": "code",
   "execution_count": 5,
   "id": "ad587769-be41-4f55-9c75-c4d0e7c8ce2a",
   "metadata": {},
   "outputs": [],
   "source": [
    "os.chdir(selene_path)"
   ]
  },
  {
   "cell_type": "code",
   "execution_count": 6,
   "id": "36e3fb48-63a9-4c28-bb35-a077c8ec0950",
   "metadata": {},
   "outputs": [],
   "source": [
    "!python selene.py AdaniHazira_2016"
   ]
  },
  {
   "cell_type": "code",
   "execution_count": 10,
   "id": "25719b63-3cda-47b5-b49b-af78a638fa0b",
   "metadata": {},
   "outputs": [],
   "source": [
    "command = f'python selene.py {stations[0]}'"
   ]
  },
  {
   "cell_type": "code",
   "execution_count": 11,
   "id": "43f6518b-c6b6-4470-a6c4-66ee7251c524",
   "metadata": {},
   "outputs": [
    {
     "data": {
      "text/plain": [
       "CompletedProcess(args='python selene.py AdaniHazira_2015', returncode=0)"
      ]
     },
     "execution_count": 11,
     "metadata": {},
     "output_type": "execute_result"
    }
   ],
   "source": [
    "subprocess.run(command, shell=True)"
   ]
  },
  {
   "cell_type": "code",
   "execution_count": 5,
   "id": "a4415b01-7571-4423-8ae1-e4a781826aea",
   "metadata": {},
   "outputs": [],
   "source": [
    "import os\n",
    "import subprocess\n",
    "import time\n",
    "\n",
    "# Save the original path\n",
    "original_path = os.getcwd()\n",
    "\n",
    "# Path to the directory containing selene.py\n",
    "selene_path = 'SELENE-master'\n",
    "\n",
    "# Loop through each station ID\n",
    "for station_id in stations:\n",
    "    # Change to the directory with selene.py\n",
    "    os.chdir(selene_path)\n",
    "    \n",
    "    # Construct the command to run selene.py with the station ID\n",
    "    command = f'python selene.py {station_id}'\n",
    "    \n",
    "    # Run the command\n",
    "    subprocess.run(command, shell=True)\n",
    "    \n",
    "    # Sleep for 20 seconds to avoid overwhelming the system\n",
    "    time.sleep(20)\n",
    "    \n",
    "    # Return to the original directory\n",
    "    os.chdir(original_path)\n",
    "\n"
   ]
  },
  {
   "cell_type": "code",
   "execution_count": null,
   "id": "9ed3fdbd-5bc0-48da-8fff-88b3117e4ed3",
   "metadata": {},
   "outputs": [],
   "source": []
  },
  {
   "cell_type": "code",
   "execution_count": null,
   "id": "80b9d73e-97ea-471c-950d-6d5ed4cf3889",
   "metadata": {},
   "outputs": [],
   "source": [
    "# Replace 'your_path_to_selene' with the actual path where you've stored SELENE \n",
    "selene_path = 'SELENE-master' \n",
    "os.chdir(selene_path) \n",
    " "
   ]
  },
  {
   "cell_type": "code",
   "execution_count": null,
   "id": "231a44a2-5334-4cef-9e50-127dea02c73d",
   "metadata": {},
   "outputs": [],
   "source": [
    "# Run SELENE for your station ID \n",
    "!python selene.py Paradeep_2010\n"
   ]
  },
  {
   "cell_type": "code",
   "execution_count": null,
   "id": "d842f9c2-58c6-465a-a4e0-0f5bb6b37f2a",
   "metadata": {},
   "outputs": [],
   "source": [
    "# Run SELENE for your station ID \n",
    "!python selene.py Paradeep_2011\n"
   ]
  },
  {
   "cell_type": "code",
   "execution_count": null,
   "id": "25b52f5f-0a5e-4775-879d-9fe8636b7679",
   "metadata": {},
   "outputs": [],
   "source": [
    "# Run SELENE for your station ID \n",
    "!python selene.py Paradeep_2012 \n"
   ]
  },
  {
   "cell_type": "code",
   "execution_count": null,
   "id": "7b2cb423-53da-4718-a010-7c3c252a9afe",
   "metadata": {},
   "outputs": [],
   "source": [
    "# Run SELENE for your station ID \n",
    "!python selene.py Paradeep_2013 \n"
   ]
  },
  {
   "cell_type": "code",
   "execution_count": null,
   "id": "bc102b38-1ecd-4ff2-ac37-b5a5d581b0dc",
   "metadata": {},
   "outputs": [],
   "source": [
    "# Run SELENE for your station ID \n",
    "!python selene.py Paradeep_2014 \n"
   ]
  },
  {
   "cell_type": "code",
   "execution_count": null,
   "id": "0da715c7-8f2e-4733-b52f-9e9ecd6b582b",
   "metadata": {},
   "outputs": [],
   "source": [
    "# Run SELENE for your station ID \n",
    "!python selene.py Paradeep_2015 \n"
   ]
  },
  {
   "cell_type": "code",
   "execution_count": null,
   "id": "8f7ff561-80b8-48c7-b384-dca834a7ff7b",
   "metadata": {},
   "outputs": [],
   "source": [
    "# Run SELENE for your station ID \n",
    "!python selene.py Paradeep_2016 \n"
   ]
  },
  {
   "cell_type": "code",
   "execution_count": null,
   "id": "8b262cb5-aba6-48a1-90b5-de8b52d37cb0",
   "metadata": {},
   "outputs": [],
   "source": [
    "# Run SELENE for your station ID \n",
    "!python selene.py Paradeep_2017 \n"
   ]
  },
  {
   "cell_type": "code",
   "execution_count": null,
   "id": "29266a17-c2e1-4937-b3cd-5621c40f1fe3",
   "metadata": {},
   "outputs": [],
   "source": [
    "# Run SELENE for your station ID \n",
    "!python selene.py Paradeep_2018 \n"
   ]
  },
  {
   "cell_type": "code",
   "execution_count": null,
   "id": "f461e019-6d95-4fe8-8356-af3d9829a5b1",
   "metadata": {},
   "outputs": [],
   "source": [
    "# Run SELENE for your station ID \n",
    "!python selene.py Paradeep_2019 \n"
   ]
  },
  {
   "cell_type": "code",
   "execution_count": null,
   "id": "59deb352-a7b1-4ff8-884a-da5693b6bdab",
   "metadata": {},
   "outputs": [],
   "source": [
    "# Run SELENE for your station ID \n",
    "!python selene.py Paradeep_2020 \n"
   ]
  },
  {
   "cell_type": "code",
   "execution_count": null,
   "id": "31139f0a-6020-4731-b54c-9c982f044efd",
   "metadata": {},
   "outputs": [],
   "source": [
    "# Run SELENE for your station ID \n",
    "!python selene.py Paradeep_2021 \n"
   ]
  },
  {
   "cell_type": "code",
   "execution_count": null,
   "id": "c870422f-8917-473d-a7ab-5b943e573557",
   "metadata": {},
   "outputs": [],
   "source": [
    "# Run SELENE for your station ID \n",
    "!python selene.py Paradeep_2022 \n"
   ]
  },
  {
   "cell_type": "code",
   "execution_count": null,
   "id": "0817c5c9-c7cb-41b5-9cc9-54430c2a40ee",
   "metadata": {},
   "outputs": [],
   "source": []
  },
  {
   "cell_type": "code",
   "execution_count": null,
   "id": "65590ba2-8ccd-491c-a6b0-a7b642ac4eb9",
   "metadata": {},
   "outputs": [],
   "source": []
  },
  {
   "cell_type": "code",
   "execution_count": 13,
   "id": "700b89b0-1b30-4739-901f-982c0cacedbc",
   "metadata": {},
   "outputs": [
    {
     "ename": "FileNotFoundError",
     "evalue": "[Errno 2] No such file or directory: 'SELENE-master/outputs/Paradeep_2013_5min_interpolated.out'",
     "output_type": "error",
     "traceback": [
      "\u001b[0;31m---------------------------------------------------------------------------\u001b[0m",
      "\u001b[0;31mFileNotFoundError\u001b[0m                         Traceback (most recent call last)",
      "\u001b[0;32m/tmp/ipykernel_122290/4086762666.py\u001b[0m in \u001b[0;36m<module>\u001b[0;34m\u001b[0m\n\u001b[1;32m      1\u001b[0m \u001b[0;31m# Assuming the file is tab-separated and doesn't have a header; adjust accordingly\u001b[0m\u001b[0;34m\u001b[0m\u001b[0;34m\u001b[0m\u001b[0m\n\u001b[0;32m----> 2\u001b[0;31m \u001b[0mdf\u001b[0m \u001b[0;34m=\u001b[0m \u001b[0mpd\u001b[0m\u001b[0;34m.\u001b[0m\u001b[0mread_csv\u001b[0m\u001b[0;34m(\u001b[0m\u001b[0;34m'SELENE-master/outputs/Paradeep_2013_5min_interpolated.out'\u001b[0m\u001b[0;34m,\u001b[0m \u001b[0msep\u001b[0m\u001b[0;34m=\u001b[0m\u001b[0;34m'\\t'\u001b[0m\u001b[0;34m,\u001b[0m \u001b[0mheader\u001b[0m\u001b[0;34m=\u001b[0m\u001b[0;32mNone\u001b[0m\u001b[0;34m)\u001b[0m\u001b[0;34m\u001b[0m\u001b[0;34m\u001b[0m\u001b[0m\n\u001b[0m\u001b[1;32m      3\u001b[0m \u001b[0;34m\u001b[0m\u001b[0m\n\u001b[1;32m      4\u001b[0m \u001b[0mdf\u001b[0m\u001b[0;34m\u001b[0m\u001b[0;34m\u001b[0m\u001b[0m\n",
      "\u001b[0;32m~/anaconda3/lib/python3.9/site-packages/pandas/util/_decorators.py\u001b[0m in \u001b[0;36mwrapper\u001b[0;34m(*args, **kwargs)\u001b[0m\n\u001b[1;32m    309\u001b[0m                     \u001b[0mstacklevel\u001b[0m\u001b[0;34m=\u001b[0m\u001b[0mstacklevel\u001b[0m\u001b[0;34m,\u001b[0m\u001b[0;34m\u001b[0m\u001b[0;34m\u001b[0m\u001b[0m\n\u001b[1;32m    310\u001b[0m                 )\n\u001b[0;32m--> 311\u001b[0;31m             \u001b[0;32mreturn\u001b[0m \u001b[0mfunc\u001b[0m\u001b[0;34m(\u001b[0m\u001b[0;34m*\u001b[0m\u001b[0margs\u001b[0m\u001b[0;34m,\u001b[0m \u001b[0;34m**\u001b[0m\u001b[0mkwargs\u001b[0m\u001b[0;34m)\u001b[0m\u001b[0;34m\u001b[0m\u001b[0;34m\u001b[0m\u001b[0m\n\u001b[0m\u001b[1;32m    312\u001b[0m \u001b[0;34m\u001b[0m\u001b[0m\n\u001b[1;32m    313\u001b[0m         \u001b[0;32mreturn\u001b[0m \u001b[0mwrapper\u001b[0m\u001b[0;34m\u001b[0m\u001b[0;34m\u001b[0m\u001b[0m\n",
      "\u001b[0;32m~/anaconda3/lib/python3.9/site-packages/pandas/io/parsers/readers.py\u001b[0m in \u001b[0;36mread_csv\u001b[0;34m(filepath_or_buffer, sep, delimiter, header, names, index_col, usecols, squeeze, prefix, mangle_dupe_cols, dtype, engine, converters, true_values, false_values, skipinitialspace, skiprows, skipfooter, nrows, na_values, keep_default_na, na_filter, verbose, skip_blank_lines, parse_dates, infer_datetime_format, keep_date_col, date_parser, dayfirst, cache_dates, iterator, chunksize, compression, thousands, decimal, lineterminator, quotechar, quoting, doublequote, escapechar, comment, encoding, encoding_errors, dialect, error_bad_lines, warn_bad_lines, on_bad_lines, delim_whitespace, low_memory, memory_map, float_precision, storage_options)\u001b[0m\n\u001b[1;32m    676\u001b[0m     \u001b[0mkwds\u001b[0m\u001b[0;34m.\u001b[0m\u001b[0mupdate\u001b[0m\u001b[0;34m(\u001b[0m\u001b[0mkwds_defaults\u001b[0m\u001b[0;34m)\u001b[0m\u001b[0;34m\u001b[0m\u001b[0;34m\u001b[0m\u001b[0m\n\u001b[1;32m    677\u001b[0m \u001b[0;34m\u001b[0m\u001b[0m\n\u001b[0;32m--> 678\u001b[0;31m     \u001b[0;32mreturn\u001b[0m \u001b[0m_read\u001b[0m\u001b[0;34m(\u001b[0m\u001b[0mfilepath_or_buffer\u001b[0m\u001b[0;34m,\u001b[0m \u001b[0mkwds\u001b[0m\u001b[0;34m)\u001b[0m\u001b[0;34m\u001b[0m\u001b[0;34m\u001b[0m\u001b[0m\n\u001b[0m\u001b[1;32m    679\u001b[0m \u001b[0;34m\u001b[0m\u001b[0m\n\u001b[1;32m    680\u001b[0m \u001b[0;34m\u001b[0m\u001b[0m\n",
      "\u001b[0;32m~/anaconda3/lib/python3.9/site-packages/pandas/io/parsers/readers.py\u001b[0m in \u001b[0;36m_read\u001b[0;34m(filepath_or_buffer, kwds)\u001b[0m\n\u001b[1;32m    573\u001b[0m \u001b[0;34m\u001b[0m\u001b[0m\n\u001b[1;32m    574\u001b[0m     \u001b[0;31m# Create the parser.\u001b[0m\u001b[0;34m\u001b[0m\u001b[0;34m\u001b[0m\u001b[0m\n\u001b[0;32m--> 575\u001b[0;31m     \u001b[0mparser\u001b[0m \u001b[0;34m=\u001b[0m \u001b[0mTextFileReader\u001b[0m\u001b[0;34m(\u001b[0m\u001b[0mfilepath_or_buffer\u001b[0m\u001b[0;34m,\u001b[0m \u001b[0;34m**\u001b[0m\u001b[0mkwds\u001b[0m\u001b[0;34m)\u001b[0m\u001b[0;34m\u001b[0m\u001b[0;34m\u001b[0m\u001b[0m\n\u001b[0m\u001b[1;32m    576\u001b[0m \u001b[0;34m\u001b[0m\u001b[0m\n\u001b[1;32m    577\u001b[0m     \u001b[0;32mif\u001b[0m \u001b[0mchunksize\u001b[0m \u001b[0;32mor\u001b[0m \u001b[0miterator\u001b[0m\u001b[0;34m:\u001b[0m\u001b[0;34m\u001b[0m\u001b[0;34m\u001b[0m\u001b[0m\n",
      "\u001b[0;32m~/anaconda3/lib/python3.9/site-packages/pandas/io/parsers/readers.py\u001b[0m in \u001b[0;36m__init__\u001b[0;34m(self, f, engine, **kwds)\u001b[0m\n\u001b[1;32m    930\u001b[0m \u001b[0;34m\u001b[0m\u001b[0m\n\u001b[1;32m    931\u001b[0m         \u001b[0mself\u001b[0m\u001b[0;34m.\u001b[0m\u001b[0mhandles\u001b[0m\u001b[0;34m:\u001b[0m \u001b[0mIOHandles\u001b[0m \u001b[0;34m|\u001b[0m \u001b[0;32mNone\u001b[0m \u001b[0;34m=\u001b[0m \u001b[0;32mNone\u001b[0m\u001b[0;34m\u001b[0m\u001b[0;34m\u001b[0m\u001b[0m\n\u001b[0;32m--> 932\u001b[0;31m         \u001b[0mself\u001b[0m\u001b[0;34m.\u001b[0m\u001b[0m_engine\u001b[0m \u001b[0;34m=\u001b[0m \u001b[0mself\u001b[0m\u001b[0;34m.\u001b[0m\u001b[0m_make_engine\u001b[0m\u001b[0;34m(\u001b[0m\u001b[0mf\u001b[0m\u001b[0;34m,\u001b[0m \u001b[0mself\u001b[0m\u001b[0;34m.\u001b[0m\u001b[0mengine\u001b[0m\u001b[0;34m)\u001b[0m\u001b[0;34m\u001b[0m\u001b[0;34m\u001b[0m\u001b[0m\n\u001b[0m\u001b[1;32m    933\u001b[0m \u001b[0;34m\u001b[0m\u001b[0m\n\u001b[1;32m    934\u001b[0m     \u001b[0;32mdef\u001b[0m \u001b[0mclose\u001b[0m\u001b[0;34m(\u001b[0m\u001b[0mself\u001b[0m\u001b[0;34m)\u001b[0m\u001b[0;34m:\u001b[0m\u001b[0;34m\u001b[0m\u001b[0;34m\u001b[0m\u001b[0m\n",
      "\u001b[0;32m~/anaconda3/lib/python3.9/site-packages/pandas/io/parsers/readers.py\u001b[0m in \u001b[0;36m_make_engine\u001b[0;34m(self, f, engine)\u001b[0m\n\u001b[1;32m   1214\u001b[0m             \u001b[0;31m# \"Union[str, PathLike[str], ReadCsvBuffer[bytes], ReadCsvBuffer[str]]\"\u001b[0m\u001b[0;34m\u001b[0m\u001b[0;34m\u001b[0m\u001b[0m\n\u001b[1;32m   1215\u001b[0m             \u001b[0;31m# , \"str\", \"bool\", \"Any\", \"Any\", \"Any\", \"Any\", \"Any\"\u001b[0m\u001b[0;34m\u001b[0m\u001b[0;34m\u001b[0m\u001b[0m\n\u001b[0;32m-> 1216\u001b[0;31m             self.handles = get_handle(  # type: ignore[call-overload]\n\u001b[0m\u001b[1;32m   1217\u001b[0m                 \u001b[0mf\u001b[0m\u001b[0;34m,\u001b[0m\u001b[0;34m\u001b[0m\u001b[0;34m\u001b[0m\u001b[0m\n\u001b[1;32m   1218\u001b[0m                 \u001b[0mmode\u001b[0m\u001b[0;34m,\u001b[0m\u001b[0;34m\u001b[0m\u001b[0;34m\u001b[0m\u001b[0m\n",
      "\u001b[0;32m~/anaconda3/lib/python3.9/site-packages/pandas/io/common.py\u001b[0m in \u001b[0;36mget_handle\u001b[0;34m(path_or_buf, mode, encoding, compression, memory_map, is_text, errors, storage_options)\u001b[0m\n\u001b[1;32m    784\u001b[0m         \u001b[0;32mif\u001b[0m \u001b[0mioargs\u001b[0m\u001b[0;34m.\u001b[0m\u001b[0mencoding\u001b[0m \u001b[0;32mand\u001b[0m \u001b[0;34m\"b\"\u001b[0m \u001b[0;32mnot\u001b[0m \u001b[0;32min\u001b[0m \u001b[0mioargs\u001b[0m\u001b[0;34m.\u001b[0m\u001b[0mmode\u001b[0m\u001b[0;34m:\u001b[0m\u001b[0;34m\u001b[0m\u001b[0;34m\u001b[0m\u001b[0m\n\u001b[1;32m    785\u001b[0m             \u001b[0;31m# Encoding\u001b[0m\u001b[0;34m\u001b[0m\u001b[0;34m\u001b[0m\u001b[0m\n\u001b[0;32m--> 786\u001b[0;31m             handle = open(\n\u001b[0m\u001b[1;32m    787\u001b[0m                 \u001b[0mhandle\u001b[0m\u001b[0;34m,\u001b[0m\u001b[0;34m\u001b[0m\u001b[0;34m\u001b[0m\u001b[0m\n\u001b[1;32m    788\u001b[0m                 \u001b[0mioargs\u001b[0m\u001b[0;34m.\u001b[0m\u001b[0mmode\u001b[0m\u001b[0;34m,\u001b[0m\u001b[0;34m\u001b[0m\u001b[0;34m\u001b[0m\u001b[0m\n",
      "\u001b[0;31mFileNotFoundError\u001b[0m: [Errno 2] No such file or directory: 'SELENE-master/outputs/Paradeep_2013_5min_interpolated.out'"
     ]
    }
   ],
   "source": [
    "# Assuming the file is tab-separated and doesn't have a header; adjust accordingly\n",
    "df = pd.read_csv('SELENE-master/outputs/Paradeep_2013_5min_interpolated.out', sep='\\t', header=None)\n",
    "\n",
    "df"
   ]
  },
  {
   "cell_type": "code",
   "execution_count": null,
   "id": "a2a144bf-254e-48ba-a159-58109a7d49a6",
   "metadata": {},
   "outputs": [],
   "source": [
    "# Assign headers to the DataFrame\n",
    "headers = ['Column1', 'Column2', 'Column3']  # Replace with your actual column headers\n",
    "df.columns = headers\n",
    "\n",
    "# Replace 'None' or other missing value indicators with np.nan\n",
    "df.replace('None', np.nan, inplace=True)  # Adjust if your file uses a different indicator for missing values\n",
    "\n",
    "# Convert your time column to pandas datetime format, necessary for resampling\n",
    "# This assumes that one of your columns is a time column in a recognizable format\n",
    "df['Time'] = pd.to_datetime(df['Time'])\n",
    "\n",
    "# Set the time column as the DataFrame's index\n",
    "df.set_index('Time', inplace=True)\n",
    "\n",
    "# Resample the data to minute intervals\n",
    "df_resampled = df.resample('1T').asfreq()\n",
    "\n",
    "# Interpolate only the gaps that were introduced by resampling\n",
    "# This step will leave the original NaN values intact and only fill the resampled gaps\n",
    "df_interpolated = df_resampled.interpolate(method='linear', limit_direction='forward')\n",
    "\n",
    "# At this point, df_interpolated is your final DataFrame with the data resampled to minute intervals\n",
    "# and only the resampled gaps filled in.\n"
   ]
  },
  {
   "cell_type": "code",
   "execution_count": null,
   "id": "a1632adb-35c2-40be-8a6a-37f5c3ea7d0b",
   "metadata": {},
   "outputs": [],
   "source": []
  }
 ],
 "metadata": {
  "kernelspec": {
   "display_name": "Python 3 (ipykernel)",
   "language": "python",
   "name": "python3"
  },
  "language_info": {
   "codemirror_mode": {
    "name": "ipython",
    "version": 3
   },
   "file_extension": ".py",
   "mimetype": "text/x-python",
   "name": "python",
   "nbconvert_exporter": "python",
   "pygments_lexer": "ipython3",
   "version": "3.9.15"
  }
 },
 "nbformat": 4,
 "nbformat_minor": 5
}
